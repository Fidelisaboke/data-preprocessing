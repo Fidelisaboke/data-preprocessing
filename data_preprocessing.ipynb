{
 "cells": [
  {
   "metadata": {},
   "cell_type": "markdown",
   "source": [
    "# Data Preprocessing\n",
    "Refers to the process of transforming raw data into clean data suitable for training, testing, and analysis by an ML model."
   ],
   "id": "5c70058a3afab7c7"
  },
  {
   "metadata": {},
   "cell_type": "markdown",
   "source": [
    "## Installing and importing the required libraries\n",
    "Before doing the data preprocessing tasks, the following libraries are installed:\n",
    "- NumPy: Efficient for working with multidimensional arrays.\n",
    "```\n",
    "pip install numpy\n",
    "```\n",
    "- Pandas: For loading raw data from a file or DBMS, manipulation and analysis of it.\n",
    "```\n",
    "pip install pandas\n",
    "```\n",
    "- Scikit-learn library: For statistical modelling and encoding.\n",
    "```\n",
    "pip install scikit-learn\n",
    "```\n",
    "### Importing the required libraries:"
   ],
   "id": "6cb2a0fdc2088b57"
  },
  {
   "cell_type": "code",
   "id": "initial_id",
   "metadata": {
    "collapsed": true,
    "jupyter": {
     "is_executing": true
    }
   },
   "source": [
    "# Import the required libraries\n",
    "import numpy as np\n",
    "import pandas as pd"
   ],
   "outputs": [],
   "execution_count": null
  },
  {
   "metadata": {},
   "cell_type": "markdown",
   "source": [
    "## Data Loading\n",
    "Load the dataset using the `read` methods provided by the `pandas` library:"
   ],
   "id": "f0c7ee885fcef5a2"
  },
  {
   "metadata": {},
   "cell_type": "code",
   "outputs": [],
   "execution_count": null,
   "source": "df = pd.read_csv('data.csv')",
   "id": "b3d1001b7db2b516"
  },
  {
   "metadata": {},
   "cell_type": "markdown",
   "source": "Summary of the dataset (high-level stats):",
   "id": "685d29e75296ff2a"
  },
  {
   "metadata": {},
   "cell_type": "code",
   "outputs": [],
   "execution_count": null,
   "source": "print(df.describe())",
   "id": "8840ffa24c241d5f"
  },
  {
   "metadata": {},
   "cell_type": "markdown",
   "source": "",
   "id": "9582f3bccdcf26af"
  }
 ],
 "metadata": {
  "kernelspec": {
   "display_name": "Python 3",
   "language": "python",
   "name": "python3"
  },
  "language_info": {
   "codemirror_mode": {
    "name": "ipython",
    "version": 2
   },
   "file_extension": ".py",
   "mimetype": "text/x-python",
   "name": "python",
   "nbconvert_exporter": "python",
   "pygments_lexer": "ipython2",
   "version": "2.7.6"
  }
 },
 "nbformat": 4,
 "nbformat_minor": 5
}
